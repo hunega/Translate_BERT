{
 "cells": [
  {
   "cell_type": "code",
   "execution_count": 3,
   "id": "de6c9ad1",
   "metadata": {},
   "outputs": [],
   "source": [
    "import numpy as np\n",
    "import pandas as pd\n",
    "from numpy import dot\n",
    "from numpy.linalg import norm\n",
    "from sentence_transformers import SentenceTransformer"
   ]
  },
  {
   "cell_type": "code",
   "execution_count": 4,
   "id": "111a4f67",
   "metadata": {},
   "outputs": [
    {
     "data": {
      "text/html": [
       "<div>\n",
       "<style scoped>\n",
       "    .dataframe tbody tr th:only-of-type {\n",
       "        vertical-align: middle;\n",
       "    }\n",
       "\n",
       "    .dataframe tbody tr th {\n",
       "        vertical-align: top;\n",
       "    }\n",
       "\n",
       "    .dataframe thead th {\n",
       "        text-align: right;\n",
       "    }\n",
       "</style>\n",
       "<table border=\"1\" class=\"dataframe\">\n",
       "  <thead>\n",
       "    <tr style=\"text-align: right;\">\n",
       "      <th></th>\n",
       "      <th>en</th>\n",
       "      <th>kor</th>\n",
       "      <th>cc</th>\n",
       "    </tr>\n",
       "  </thead>\n",
       "  <tbody>\n",
       "    <tr>\n",
       "      <th>0</th>\n",
       "      <td>Hi.</td>\n",
       "      <td>안녕.</td>\n",
       "      <td>CC-BY 2.0 (France) Attribution: tatoeba.org #5...</td>\n",
       "    </tr>\n",
       "    <tr>\n",
       "      <th>1</th>\n",
       "      <td>Run!</td>\n",
       "      <td>뛰어!</td>\n",
       "      <td>CC-BY 2.0 (France) Attribution: tatoeba.org #9...</td>\n",
       "    </tr>\n",
       "    <tr>\n",
       "      <th>2</th>\n",
       "      <td>Run.</td>\n",
       "      <td>뛰어.</td>\n",
       "      <td>CC-BY 2.0 (France) Attribution: tatoeba.org #4...</td>\n",
       "    </tr>\n",
       "    <tr>\n",
       "      <th>3</th>\n",
       "      <td>Who?</td>\n",
       "      <td>누구?</td>\n",
       "      <td>CC-BY 2.0 (France) Attribution: tatoeba.org #2...</td>\n",
       "    </tr>\n",
       "    <tr>\n",
       "      <th>4</th>\n",
       "      <td>Wow!</td>\n",
       "      <td>우와!</td>\n",
       "      <td>CC-BY 2.0 (France) Attribution: tatoeba.org #5...</td>\n",
       "    </tr>\n",
       "    <tr>\n",
       "      <th>...</th>\n",
       "      <td>...</td>\n",
       "      <td>...</td>\n",
       "      <td>...</td>\n",
       "    </tr>\n",
       "    <tr>\n",
       "      <th>5864</th>\n",
       "      <td>I started a new blog. I'll do my best not to b...</td>\n",
       "      <td>난 블로그를 시작했어. 블로그를 초반에만 반짝 많이 하다가 관두는 사람처럼은 되지 ...</td>\n",
       "      <td>CC-BY 2.0 (France) Attribution: tatoeba.org #1...</td>\n",
       "    </tr>\n",
       "    <tr>\n",
       "      <th>5865</th>\n",
       "      <td>I think it's a shame that some foreign languag...</td>\n",
       "      <td>몇몇 외국어 선생님이 한 번도 원어민과 공부해본 적도 없으면서 대학을 나올 수 있었...</td>\n",
       "      <td>CC-BY 2.0 (France) Attribution: tatoeba.org #9...</td>\n",
       "    </tr>\n",
       "    <tr>\n",
       "      <th>5866</th>\n",
       "      <td>And the good news is that today the economy is...</td>\n",
       "      <td>다음으로 좋은 소식은 오늘 경제가 재성장한다는 것입니다. 임금, 소득, 집값, 퇴직...</td>\n",
       "      <td>CC-BY 2.0 (France) Attribution: tatoeba.org #5...</td>\n",
       "    </tr>\n",
       "    <tr>\n",
       "      <th>5867</th>\n",
       "      <td>If someone who doesn't know your background sa...</td>\n",
       "      <td>만일 네 사정도 잘 모르는 사람이 원어민 같다고 말한다면 그건 그 사람이 네가 원어...</td>\n",
       "      <td>CC-BY 2.0 (France) Attribution: tatoeba.org #9...</td>\n",
       "    </tr>\n",
       "    <tr>\n",
       "      <th>5868</th>\n",
       "      <td>Doubtless there exists in this world precisely...</td>\n",
       "      <td>의심의 여지 없이 세상에는 어떤 남자이든 정확히 딱 알맞는 여자와 결혼하거나 그 반...</td>\n",
       "      <td>CC-BY 2.0 (France) Attribution: tatoeba.org #7...</td>\n",
       "    </tr>\n",
       "  </tbody>\n",
       "</table>\n",
       "<p>5869 rows × 3 columns</p>\n",
       "</div>"
      ],
      "text/plain": [
       "                                                     en  \\\n",
       "0                                                   Hi.   \n",
       "1                                                  Run!   \n",
       "2                                                  Run.   \n",
       "3                                                  Who?   \n",
       "4                                                  Wow!   \n",
       "...                                                 ...   \n",
       "5864  I started a new blog. I'll do my best not to b...   \n",
       "5865  I think it's a shame that some foreign languag...   \n",
       "5866  And the good news is that today the economy is...   \n",
       "5867  If someone who doesn't know your background sa...   \n",
       "5868  Doubtless there exists in this world precisely...   \n",
       "\n",
       "                                                    kor  \\\n",
       "0                                                   안녕.   \n",
       "1                                                   뛰어!   \n",
       "2                                                   뛰어.   \n",
       "3                                                   누구?   \n",
       "4                                                   우와!   \n",
       "...                                                 ...   \n",
       "5864  난 블로그를 시작했어. 블로그를 초반에만 반짝 많이 하다가 관두는 사람처럼은 되지 ...   \n",
       "5865  몇몇 외국어 선생님이 한 번도 원어민과 공부해본 적도 없으면서 대학을 나올 수 있었...   \n",
       "5866  다음으로 좋은 소식은 오늘 경제가 재성장한다는 것입니다. 임금, 소득, 집값, 퇴직...   \n",
       "5867  만일 네 사정도 잘 모르는 사람이 원어민 같다고 말한다면 그건 그 사람이 네가 원어...   \n",
       "5868  의심의 여지 없이 세상에는 어떤 남자이든 정확히 딱 알맞는 여자와 결혼하거나 그 반...   \n",
       "\n",
       "                                                     cc  \n",
       "0     CC-BY 2.0 (France) Attribution: tatoeba.org #5...  \n",
       "1     CC-BY 2.0 (France) Attribution: tatoeba.org #9...  \n",
       "2     CC-BY 2.0 (France) Attribution: tatoeba.org #4...  \n",
       "3     CC-BY 2.0 (France) Attribution: tatoeba.org #2...  \n",
       "4     CC-BY 2.0 (France) Attribution: tatoeba.org #5...  \n",
       "...                                                 ...  \n",
       "5864  CC-BY 2.0 (France) Attribution: tatoeba.org #1...  \n",
       "5865  CC-BY 2.0 (France) Attribution: tatoeba.org #9...  \n",
       "5866  CC-BY 2.0 (France) Attribution: tatoeba.org #5...  \n",
       "5867  CC-BY 2.0 (France) Attribution: tatoeba.org #9...  \n",
       "5868  CC-BY 2.0 (France) Attribution: tatoeba.org #7...  \n",
       "\n",
       "[5869 rows x 3 columns]"
      ]
     },
     "execution_count": 4,
     "metadata": {},
     "output_type": "execute_result"
    }
   ],
   "source": [
    "data = pd.read_csv('kor-eng/kor.txt', delimiter='\\t')\n",
    "data.columns = ['en', 'kor', 'cc']\n",
    "data"
   ]
  },
  {
   "cell_type": "code",
   "execution_count": 5,
   "id": "4f93b9ff",
   "metadata": {},
   "outputs": [],
   "source": [
    "model = SentenceTransformer('sentence-transformers/xlm-r-100langs-bert-base-nli-stsb-mean-tokens')"
   ]
  },
  {
   "cell_type": "code",
   "execution_count": 6,
   "id": "c664f3ff",
   "metadata": {},
   "outputs": [],
   "source": [
    "data['embedding'] = data.apply(lambda row : model.encode(row.en), axis=1)"
   ]
  },
  {
   "cell_type": "code",
   "execution_count": 7,
   "id": "cb68d485",
   "metadata": {},
   "outputs": [],
   "source": [
    "data.to_csv('kor-eng/kor_with_embedding.csv', index=False)"
   ]
  },
  {
   "cell_type": "code",
   "execution_count": 6,
   "id": "ed8d2f21",
   "metadata": {},
   "outputs": [],
   "source": [
    "def cos_sim(A, B):\n",
    "    return dot(A, B) / (norm(A)*norm(B))"
   ]
  },
  {
   "cell_type": "code",
   "execution_count": 7,
   "id": "ea4d86d9",
   "metadata": {},
   "outputs": [],
   "source": [
    "def translate(sentence):\n",
    "    embedding = model.encode(sentence)\n",
    "    data['score'] = data.apply(lambda x : cos_sim(x['embedding'], embedding), axis=1)\n",
    "    return data.loc[data['score'].idxmax()]['kor']"
   ]
  },
  {
   "cell_type": "code",
   "execution_count": 9,
   "id": "88813c73",
   "metadata": {},
   "outputs": [
    {
     "data": {
      "text/plain": [
       "'뭘 할 계획이니?'"
      ]
     },
     "execution_count": 9,
     "metadata": {},
     "output_type": "execute_result"
    }
   ],
   "source": [
    "translate('What are you going to do?')"
   ]
  },
  {
   "cell_type": "code",
   "execution_count": 11,
   "id": "09698b16",
   "metadata": {},
   "outputs": [
    {
     "data": {
      "text/plain": [
       "'뭐하고 있어?'"
      ]
     },
     "execution_count": 11,
     "metadata": {},
     "output_type": "execute_result"
    }
   ],
   "source": [
    "translate('What are you doing?')"
   ]
  },
  {
   "cell_type": "code",
   "execution_count": 12,
   "id": "ec58fce3",
   "metadata": {},
   "outputs": [
    {
     "data": {
      "text/plain": [
       "'나는 이것을 사고 싶다.'"
      ]
     },
     "execution_count": 12,
     "metadata": {},
     "output_type": "execute_result"
    }
   ],
   "source": [
    "translate('Please take me to the market.')"
   ]
  },
  {
   "cell_type": "code",
   "execution_count": 13,
   "id": "f150a76a",
   "metadata": {},
   "outputs": [],
   "source": [
    "from keras.models import load_model"
   ]
  },
  {
   "cell_type": "code",
   "execution_count": 16,
   "id": "e4cc29f4",
   "metadata": {},
   "outputs": [],
   "source": [
    "model.save('Translate_BERT.h5')"
   ]
  },
  {
   "cell_type": "code",
   "execution_count": 18,
   "id": "7f11b04f",
   "metadata": {},
   "outputs": [],
   "source": [
    "trans_model = SentenceTransformer.load('Translate_BERT.h5')"
   ]
  },
  {
   "cell_type": "code",
   "execution_count": 19,
   "id": "ae29c798",
   "metadata": {},
   "outputs": [],
   "source": [
    "def translate1(sentence):\n",
    "    embedding = trans_model.encode(sentence)\n",
    "    data['score'] = data.apply(lambda x : cos_sim(x['embedding'], embedding), axis=1)\n",
    "    return data.loc[data['score'].idxmax()]['kor']"
   ]
  },
  {
   "cell_type": "code",
   "execution_count": 20,
   "id": "cc14099a",
   "metadata": {},
   "outputs": [
    {
     "data": {
      "text/plain": [
       "'뭘 할 계획이니?'"
      ]
     },
     "execution_count": 20,
     "metadata": {},
     "output_type": "execute_result"
    }
   ],
   "source": [
    "translate1('What are you going to do?')"
   ]
  }
 ],
 "metadata": {
  "kernelspec": {
   "display_name": "Python 3 (ipykernel)",
   "language": "python",
   "name": "python3"
  },
  "language_info": {
   "codemirror_mode": {
    "name": "ipython",
    "version": 3
   },
   "file_extension": ".py",
   "mimetype": "text/x-python",
   "name": "python",
   "nbconvert_exporter": "python",
   "pygments_lexer": "ipython3",
   "version": "3.11.2"
  }
 },
 "nbformat": 4,
 "nbformat_minor": 5
}
